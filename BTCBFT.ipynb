{
 "cells": [
  {
   "cell_type": "code",
   "execution_count": null,
   "id": "2f5572d0",
   "metadata": {},
   "outputs": [],
   "source": [
    "import pandas as pd\n",
    "import re\n",
    "\n",
    "# Load ICD-10 descriptions from an Excel file\n",
    "df = pd.read_excel('/kaggle/input/icdmaster/ICDMaster.xlsx', usecols=[\"ICD\", \"Description\"])\n",
    "icd_codes = df['ICD'].tolist()\n",
    "descriptions = df['Description'].tolist()\n",
    "\n",
    "# Function to clean descriptions\n",
    "def clean_description(description, icd_code):\n",
    "    # Remove dot from ICD code for pattern matching\n",
    "    icd_code_no_dot = icd_code.replace('.', '')\n",
    "    pattern = r'^' + re.escape(icd_code_no_dot) + r'\\b\\s*'\n",
    "    cleaned_description = re.sub(pattern, '', description).strip()\n",
    "    return cleaned_description\n",
    "\n",
    "# Remove ICD-10 code from the beginning of each description if present\n",
    "cleaned_descriptions = []\n",
    "for desc, icd_code in zip(descriptions, icd_codes):\n",
    "    cleaned_description = clean_description(desc, icd_code)\n",
    "    cleaned_descriptions.append(cleaned_description)\n",
    "\n",
    "# Update the DataFrame with cleaned descriptions\n",
    "df['Description'] = cleaned_descriptions\n",
    "\n",
    "# Save the cleaned descriptions to a new CSV file\n",
    "df.to_csv('/kaggle/working/cleaned_icd10_descriptions.csv', index=False)"
   ]
  }
 ],
 "metadata": {
  "kernelspec": {
   "display_name": "Python 3 (ipykernel)",
   "language": "python",
   "name": "python3"
  },
  "language_info": {
   "codemirror_mode": {
    "name": "ipython",
    "version": 3
   },
   "file_extension": ".py",
   "mimetype": "text/x-python",
   "name": "python",
   "nbconvert_exporter": "python",
   "pygments_lexer": "ipython3",
   "version": "3.11.5"
  }
 },
 "nbformat": 4,
 "nbformat_minor": 5
}
